{
  "nbformat": 4,
  "nbformat_minor": 0,
  "metadata": {
    "colab": {
      "name": "Final Project.ipynb",
      "provenance": [],
      "collapsed_sections": [],
      "mount_file_id": "1ZE0wpG9_vlJ_cB4KbV-JotY_pJO2GccS",
      "authorship_tag": "ABX9TyPxFC2n2hYDPvPPUtkce14c",
      "include_colab_link": true
    },
    "kernelspec": {
      "name": "python3",
      "display_name": "Python 3"
    }
  },
  "cells": [
    {
      "cell_type": "markdown",
      "metadata": {
        "id": "view-in-github",
        "colab_type": "text"
      },
      "source": [
        "<a href=\"https://colab.research.google.com/github/christedjo28/H8_36/blob/master/Final_Project.ipynb\" target=\"_parent\"><img src=\"https://colab.research.google.com/assets/colab-badge.svg\" alt=\"Open In Colab\"/></a>"
      ]
    },
    {
      "cell_type": "markdown",
      "metadata": {
        "id": "C76g70hwcJTs",
        "colab_type": "text"
      },
      "source": [
        "### Impact factor of top 1000 journals"
      ]
    },
    {
      "cell_type": "markdown",
      "metadata": {
        "id": "z7x23YGQihMW",
        "colab_type": "text"
      },
      "source": [
        "About this file\n",
        "Contains Ratings from the year 2013-2019. Further details of each columns are:\n",
        "\n",
        "1. **Source title**: Journal title.\n",
        "2. **CiteScore**: Impact factor ratings.\n",
        "3. **Highest percentile**: Highest percentile in the category of journal.\n",
        "4. **201(x-3)-1x Citations**: Last 3 years citations of the journal.\n",
        "5. **201(x-3)-1x Documents**: Documents, such as articles, added in the journal in the last 3 years.\n",
        "6. **% Cited**: Percentage cited as compare to the previous year.\n",
        "7. **Source-Normalized Impact per Paper (SNIP)**: Measures contextual citation impact by weighting citations based on the total number of citations in a subject field.\n",
        "8. **The SCImago Journal Rank (SJR)**: Is a measure of the scientific influence of scholarly journals that accounts for both the number of citations received by a journal and the importance or prestige of the journals where the citations come from.\n",
        "9. **Publisher**: Name of the publisher of the journal."
      ]
    },
    {
      "cell_type": "code",
      "metadata": {
        "id": "TLFQ2V5jeijQ",
        "colab_type": "code",
        "colab": {}
      },
      "source": [
        "import numpy as np\n",
        "import pandas as pd"
      ],
      "execution_count": 1,
      "outputs": []
    },
    {
      "cell_type": "markdown",
      "metadata": {
        "id": "Jw1l28QPOsjv",
        "colab_type": "text"
      },
      "source": [
        "## Import Data dari Kaggle\n",
        "#### Impact factor of top 1000 journals"
      ]
    },
    {
      "cell_type": "code",
      "metadata": {
        "id": "kH5bnaP9cHAz",
        "colab_type": "code",
        "colab": {}
      },
      "source": [
        "df19 = pd.read_excel('drive/My Drive/Colab Notebooks/datasets/datasets_813339_1393157_Impact-Factor-Ratings.xlsx', '2019')\n",
        "df18 = pd.read_excel('drive/My Drive/Colab Notebooks/datasets/datasets_813339_1393157_Impact-Factor-Ratings.xlsx', '2018')\n",
        "df17 = pd.read_excel('drive/My Drive/Colab Notebooks/datasets/datasets_813339_1393157_Impact-Factor-Ratings.xlsx', '2017')\n",
        "df16 = pd.read_excel('drive/My Drive/Colab Notebooks/datasets/datasets_813339_1393157_Impact-Factor-Ratings.xlsx', '2016')\n",
        "df15 = pd.read_excel('drive/My Drive/Colab Notebooks/datasets/datasets_813339_1393157_Impact-Factor-Ratings.xlsx', '2015')"
      ],
      "execution_count": 2,
      "outputs": []
    },
    {
      "cell_type": "code",
      "metadata": {
        "id": "jmXXXq5VedZN",
        "colab_type": "code",
        "colab": {
          "base_uri": "https://localhost:8080/",
          "height": 246
        },
        "outputId": "52f1bc05-f213-4d40-a07a-ac786c925fcf"
      },
      "source": [
        "df19.head()"
      ],
      "execution_count": 3,
      "outputs": [
        {
          "output_type": "execute_result",
          "data": {
            "text/html": [
              "<div>\n",
              "<style scoped>\n",
              "    .dataframe tbody tr th:only-of-type {\n",
              "        vertical-align: middle;\n",
              "    }\n",
              "\n",
              "    .dataframe tbody tr th {\n",
              "        vertical-align: top;\n",
              "    }\n",
              "\n",
              "    .dataframe thead th {\n",
              "        text-align: right;\n",
              "    }\n",
              "</style>\n",
              "<table border=\"1\" class=\"dataframe\">\n",
              "  <thead>\n",
              "    <tr style=\"text-align: right;\">\n",
              "      <th></th>\n",
              "      <th>Source title</th>\n",
              "      <th>CiteScore</th>\n",
              "      <th>Highest percentile</th>\n",
              "      <th>2016-19 Citations</th>\n",
              "      <th>2016-19 Documents</th>\n",
              "      <th>% Cited</th>\n",
              "      <th>SNIP</th>\n",
              "      <th>SJR</th>\n",
              "      <th>Publisher</th>\n",
              "    </tr>\n",
              "  </thead>\n",
              "  <tbody>\n",
              "    <tr>\n",
              "      <th>0</th>\n",
              "      <td>Ca-A Cancer Journal for Clinicians</td>\n",
              "      <td>435.4</td>\n",
              "      <td>99.0%\\n1/331\\nOncology</td>\n",
              "      <td>47455</td>\n",
              "      <td>109</td>\n",
              "      <td>94</td>\n",
              "      <td>113.744</td>\n",
              "      <td>88.192</td>\n",
              "      <td>Wiley-Blackwell</td>\n",
              "    </tr>\n",
              "    <tr>\n",
              "      <th>1</th>\n",
              "      <td>MMWR Recommendations and Reports</td>\n",
              "      <td>152.5</td>\n",
              "      <td>99.0%\\n1/275\\nHealth (social science)</td>\n",
              "      <td>2288</td>\n",
              "      <td>15</td>\n",
              "      <td>87</td>\n",
              "      <td>37.543</td>\n",
              "      <td>41.022</td>\n",
              "      <td>Centers for Disease Control and Prevention (CDC)</td>\n",
              "    </tr>\n",
              "    <tr>\n",
              "      <th>2</th>\n",
              "      <td>Nature Reviews Materials</td>\n",
              "      <td>123.7</td>\n",
              "      <td>99.0%\\n1/287\\nMaterials Chemistry</td>\n",
              "      <td>23868</td>\n",
              "      <td>193</td>\n",
              "      <td>96</td>\n",
              "      <td>15.261</td>\n",
              "      <td>36.691</td>\n",
              "      <td>Springer Nature</td>\n",
              "    </tr>\n",
              "    <tr>\n",
              "      <th>3</th>\n",
              "      <td>Chemical Reviews</td>\n",
              "      <td>100.5</td>\n",
              "      <td>99.0%\\n1/398\\nGeneral Chemistry</td>\n",
              "      <td>97295</td>\n",
              "      <td>968</td>\n",
              "      <td>96</td>\n",
              "      <td>12.832</td>\n",
              "      <td>20.847</td>\n",
              "      <td>American Chemical Society</td>\n",
              "    </tr>\n",
              "    <tr>\n",
              "      <th>4</th>\n",
              "      <td>Reviews of Modern Physics</td>\n",
              "      <td>75.8</td>\n",
              "      <td>99.0%\\n1/224\\nGeneral Physics and Astronomy</td>\n",
              "      <td>11906</td>\n",
              "      <td>157</td>\n",
              "      <td>92</td>\n",
              "      <td>14.948</td>\n",
              "      <td>21.938</td>\n",
              "      <td>American Physical Society</td>\n",
              "    </tr>\n",
              "  </tbody>\n",
              "</table>\n",
              "</div>"
            ],
            "text/plain": [
              "                         Source title  ...                                         Publisher\n",
              "0  Ca-A Cancer Journal for Clinicians  ...                                   Wiley-Blackwell\n",
              "1    MMWR Recommendations and Reports  ...  Centers for Disease Control and Prevention (CDC)\n",
              "2            Nature Reviews Materials  ...                                   Springer Nature\n",
              "3                    Chemical Reviews  ...                         American Chemical Society\n",
              "4           Reviews of Modern Physics  ...                         American Physical Society\n",
              "\n",
              "[5 rows x 9 columns]"
            ]
          },
          "metadata": {
            "tags": []
          },
          "execution_count": 3
        }
      ]
    },
    {
      "cell_type": "code",
      "metadata": {
        "id": "HLytK_irgR4y",
        "colab_type": "code",
        "colab": {
          "base_uri": "https://localhost:8080/",
          "height": 185
        },
        "outputId": "35a551ef-2ca4-40c8-b3f6-64ff85960f5a"
      },
      "source": [
        "df19.isnull().sum()"
      ],
      "execution_count": 4,
      "outputs": [
        {
          "output_type": "execute_result",
          "data": {
            "text/plain": [
              "Source title           0\n",
              "CiteScore              0\n",
              "Highest percentile     0\n",
              "2016-19 Citations      0\n",
              "2016-19 Documents      0\n",
              "% Cited                0\n",
              "SNIP                  12\n",
              "SJR                    6\n",
              "Publisher              5\n",
              "dtype: int64"
            ]
          },
          "metadata": {
            "tags": []
          },
          "execution_count": 4
        }
      ]
    },
    {
      "cell_type": "markdown",
      "metadata": {
        "id": "IqUtpMINQG8h",
        "colab_type": "text"
      },
      "source": [
        "### Cleaning Data"
      ]
    },
    {
      "cell_type": "code",
      "metadata": {
        "id": "ZK752DZznJob",
        "colab_type": "code",
        "colab": {}
      },
      "source": [
        "df19['SNIP'].fillna(0, inplace=True)"
      ],
      "execution_count": 5,
      "outputs": []
    },
    {
      "cell_type": "code",
      "metadata": {
        "id": "r9K8IdbVpa1O",
        "colab_type": "code",
        "colab": {}
      },
      "source": [
        "df19['SJR'].fillna(0, inplace=True)"
      ],
      "execution_count": 6,
      "outputs": []
    },
    {
      "cell_type": "code",
      "metadata": {
        "id": "eEpF_iDGxxmI",
        "colab_type": "code",
        "colab": {
          "base_uri": "https://localhost:8080/",
          "height": 185
        },
        "outputId": "eeab4cb4-ad15-49cf-f2b9-622ba1d4651d"
      },
      "source": [
        "df19.isnull().sum()"
      ],
      "execution_count": 7,
      "outputs": [
        {
          "output_type": "execute_result",
          "data": {
            "text/plain": [
              "Source title          0\n",
              "CiteScore             0\n",
              "Highest percentile    0\n",
              "2016-19 Citations     0\n",
              "2016-19 Documents     0\n",
              "% Cited               0\n",
              "SNIP                  0\n",
              "SJR                   0\n",
              "Publisher             5\n",
              "dtype: int64"
            ]
          },
          "metadata": {
            "tags": []
          },
          "execution_count": 7
        }
      ]
    },
    {
      "cell_type": "code",
      "metadata": {
        "id": "_u2pTp9Mxx_M",
        "colab_type": "code",
        "colab": {
          "base_uri": "https://localhost:8080/",
          "height": 284
        },
        "outputId": "fd911918-21e4-46d4-e9b0-ad6b0d005f7b"
      },
      "source": [
        "df19.describe()"
      ],
      "execution_count": 8,
      "outputs": [
        {
          "output_type": "execute_result",
          "data": {
            "text/html": [
              "<div>\n",
              "<style scoped>\n",
              "    .dataframe tbody tr th:only-of-type {\n",
              "        vertical-align: middle;\n",
              "    }\n",
              "\n",
              "    .dataframe tbody tr th {\n",
              "        vertical-align: top;\n",
              "    }\n",
              "\n",
              "    .dataframe thead th {\n",
              "        text-align: right;\n",
              "    }\n",
              "</style>\n",
              "<table border=\"1\" class=\"dataframe\">\n",
              "  <thead>\n",
              "    <tr style=\"text-align: right;\">\n",
              "      <th></th>\n",
              "      <th>CiteScore</th>\n",
              "      <th>2016-19 Citations</th>\n",
              "      <th>2016-19 Documents</th>\n",
              "      <th>% Cited</th>\n",
              "      <th>SNIP</th>\n",
              "      <th>SJR</th>\n",
              "    </tr>\n",
              "  </thead>\n",
              "  <tbody>\n",
              "    <tr>\n",
              "      <th>count</th>\n",
              "      <td>1000.000000</td>\n",
              "      <td>1000.000000</td>\n",
              "      <td>1000.000000</td>\n",
              "      <td>1000.000000</td>\n",
              "      <td>1000.000000</td>\n",
              "      <td>1000.000000</td>\n",
              "    </tr>\n",
              "    <tr>\n",
              "      <th>mean</th>\n",
              "      <td>16.536100</td>\n",
              "      <td>15530.370000</td>\n",
              "      <td>1039.365000</td>\n",
              "      <td>86.696000</td>\n",
              "      <td>3.386423</td>\n",
              "      <td>4.307486</td>\n",
              "    </tr>\n",
              "    <tr>\n",
              "      <th>std</th>\n",
              "      <td>17.658969</td>\n",
              "      <td>30068.973832</td>\n",
              "      <td>1891.849663</td>\n",
              "      <td>6.884837</td>\n",
              "      <td>4.397953</td>\n",
              "      <td>4.821364</td>\n",
              "    </tr>\n",
              "    <tr>\n",
              "      <th>min</th>\n",
              "      <td>8.800000</td>\n",
              "      <td>49.000000</td>\n",
              "      <td>5.000000</td>\n",
              "      <td>44.000000</td>\n",
              "      <td>0.000000</td>\n",
              "      <td>0.000000</td>\n",
              "    </tr>\n",
              "    <tr>\n",
              "      <th>25%</th>\n",
              "      <td>10.075000</td>\n",
              "      <td>2331.500000</td>\n",
              "      <td>166.500000</td>\n",
              "      <td>84.000000</td>\n",
              "      <td>1.905250</td>\n",
              "      <td>2.051000</td>\n",
              "    </tr>\n",
              "    <tr>\n",
              "      <th>50%</th>\n",
              "      <td>12.200000</td>\n",
              "      <td>6692.000000</td>\n",
              "      <td>459.500000</td>\n",
              "      <td>88.000000</td>\n",
              "      <td>2.560500</td>\n",
              "      <td>2.992500</td>\n",
              "    </tr>\n",
              "    <tr>\n",
              "      <th>75%</th>\n",
              "      <td>17.100000</td>\n",
              "      <td>14797.250000</td>\n",
              "      <td>1015.250000</td>\n",
              "      <td>91.000000</td>\n",
              "      <td>3.777500</td>\n",
              "      <td>4.891000</td>\n",
              "    </tr>\n",
              "    <tr>\n",
              "      <th>max</th>\n",
              "      <td>435.400000</td>\n",
              "      <td>333517.000000</td>\n",
              "      <td>18838.000000</td>\n",
              "      <td>100.000000</td>\n",
              "      <td>113.744000</td>\n",
              "      <td>88.192000</td>\n",
              "    </tr>\n",
              "  </tbody>\n",
              "</table>\n",
              "</div>"
            ],
            "text/plain": [
              "         CiteScore  2016-19 Citations  ...         SNIP          SJR\n",
              "count  1000.000000        1000.000000  ...  1000.000000  1000.000000\n",
              "mean     16.536100       15530.370000  ...     3.386423     4.307486\n",
              "std      17.658969       30068.973832  ...     4.397953     4.821364\n",
              "min       8.800000          49.000000  ...     0.000000     0.000000\n",
              "25%      10.075000        2331.500000  ...     1.905250     2.051000\n",
              "50%      12.200000        6692.000000  ...     2.560500     2.992500\n",
              "75%      17.100000       14797.250000  ...     3.777500     4.891000\n",
              "max     435.400000      333517.000000  ...   113.744000    88.192000\n",
              "\n",
              "[8 rows x 6 columns]"
            ]
          },
          "metadata": {
            "tags": []
          },
          "execution_count": 8
        }
      ]
    },
    {
      "cell_type": "code",
      "metadata": {
        "id": "aAVLs5tlB4HE",
        "colab_type": "code",
        "colab": {}
      },
      "source": [
        "df19e = df19\n",
        "df19e[['Highest percentile','FieldID','Field']] = df19['Highest percentile'].str.split('\\n',expand=True)"
      ],
      "execution_count": 9,
      "outputs": []
    },
    {
      "cell_type": "code",
      "metadata": {
        "id": "72103sZiFtMT",
        "colab_type": "code",
        "colab": {
          "base_uri": "https://localhost:8080/",
          "height": 246
        },
        "outputId": "ebd8ae72-9f8c-4bf8-c3cd-875737cadea2"
      },
      "source": [
        "df19e.head()"
      ],
      "execution_count": 10,
      "outputs": [
        {
          "output_type": "execute_result",
          "data": {
            "text/html": [
              "<div>\n",
              "<style scoped>\n",
              "    .dataframe tbody tr th:only-of-type {\n",
              "        vertical-align: middle;\n",
              "    }\n",
              "\n",
              "    .dataframe tbody tr th {\n",
              "        vertical-align: top;\n",
              "    }\n",
              "\n",
              "    .dataframe thead th {\n",
              "        text-align: right;\n",
              "    }\n",
              "</style>\n",
              "<table border=\"1\" class=\"dataframe\">\n",
              "  <thead>\n",
              "    <tr style=\"text-align: right;\">\n",
              "      <th></th>\n",
              "      <th>Source title</th>\n",
              "      <th>CiteScore</th>\n",
              "      <th>Highest percentile</th>\n",
              "      <th>2016-19 Citations</th>\n",
              "      <th>2016-19 Documents</th>\n",
              "      <th>% Cited</th>\n",
              "      <th>SNIP</th>\n",
              "      <th>SJR</th>\n",
              "      <th>Publisher</th>\n",
              "      <th>FieldID</th>\n",
              "      <th>Field</th>\n",
              "    </tr>\n",
              "  </thead>\n",
              "  <tbody>\n",
              "    <tr>\n",
              "      <th>0</th>\n",
              "      <td>Ca-A Cancer Journal for Clinicians</td>\n",
              "      <td>435.4</td>\n",
              "      <td>99.0%</td>\n",
              "      <td>47455</td>\n",
              "      <td>109</td>\n",
              "      <td>94</td>\n",
              "      <td>113.744</td>\n",
              "      <td>88.192</td>\n",
              "      <td>Wiley-Blackwell</td>\n",
              "      <td>1/331</td>\n",
              "      <td>Oncology</td>\n",
              "    </tr>\n",
              "    <tr>\n",
              "      <th>1</th>\n",
              "      <td>MMWR Recommendations and Reports</td>\n",
              "      <td>152.5</td>\n",
              "      <td>99.0%</td>\n",
              "      <td>2288</td>\n",
              "      <td>15</td>\n",
              "      <td>87</td>\n",
              "      <td>37.543</td>\n",
              "      <td>41.022</td>\n",
              "      <td>Centers for Disease Control and Prevention (CDC)</td>\n",
              "      <td>1/275</td>\n",
              "      <td>Health (social science)</td>\n",
              "    </tr>\n",
              "    <tr>\n",
              "      <th>2</th>\n",
              "      <td>Nature Reviews Materials</td>\n",
              "      <td>123.7</td>\n",
              "      <td>99.0%</td>\n",
              "      <td>23868</td>\n",
              "      <td>193</td>\n",
              "      <td>96</td>\n",
              "      <td>15.261</td>\n",
              "      <td>36.691</td>\n",
              "      <td>Springer Nature</td>\n",
              "      <td>1/287</td>\n",
              "      <td>Materials Chemistry</td>\n",
              "    </tr>\n",
              "    <tr>\n",
              "      <th>3</th>\n",
              "      <td>Chemical Reviews</td>\n",
              "      <td>100.5</td>\n",
              "      <td>99.0%</td>\n",
              "      <td>97295</td>\n",
              "      <td>968</td>\n",
              "      <td>96</td>\n",
              "      <td>12.832</td>\n",
              "      <td>20.847</td>\n",
              "      <td>American Chemical Society</td>\n",
              "      <td>1/398</td>\n",
              "      <td>General Chemistry</td>\n",
              "    </tr>\n",
              "    <tr>\n",
              "      <th>4</th>\n",
              "      <td>Reviews of Modern Physics</td>\n",
              "      <td>75.8</td>\n",
              "      <td>99.0%</td>\n",
              "      <td>11906</td>\n",
              "      <td>157</td>\n",
              "      <td>92</td>\n",
              "      <td>14.948</td>\n",
              "      <td>21.938</td>\n",
              "      <td>American Physical Society</td>\n",
              "      <td>1/224</td>\n",
              "      <td>General Physics and Astronomy</td>\n",
              "    </tr>\n",
              "  </tbody>\n",
              "</table>\n",
              "</div>"
            ],
            "text/plain": [
              "                         Source title  ...                          Field\n",
              "0  Ca-A Cancer Journal for Clinicians  ...                       Oncology\n",
              "1    MMWR Recommendations and Reports  ...        Health (social science)\n",
              "2            Nature Reviews Materials  ...            Materials Chemistry\n",
              "3                    Chemical Reviews  ...              General Chemistry\n",
              "4           Reviews of Modern Physics  ...  General Physics and Astronomy\n",
              "\n",
              "[5 rows x 11 columns]"
            ]
          },
          "metadata": {
            "tags": []
          },
          "execution_count": 10
        }
      ]
    },
    {
      "cell_type": "code",
      "metadata": {
        "id": "Os5E0qnSSUb3",
        "colab_type": "code",
        "colab": {
          "base_uri": "https://localhost:8080/",
          "height": 218
        },
        "outputId": "fb266c3f-682e-47cb-b8b5-dd6f01f57747"
      },
      "source": [
        "df19e.isnull().sum()"
      ],
      "execution_count": 11,
      "outputs": [
        {
          "output_type": "execute_result",
          "data": {
            "text/plain": [
              "Source title          0\n",
              "CiteScore             0\n",
              "Highest percentile    0\n",
              "2016-19 Citations     0\n",
              "2016-19 Documents     0\n",
              "% Cited               0\n",
              "SNIP                  0\n",
              "SJR                   0\n",
              "Publisher             5\n",
              "FieldID               0\n",
              "Field                 0\n",
              "dtype: int64"
            ]
          },
          "metadata": {
            "tags": []
          },
          "execution_count": 11
        }
      ]
    },
    {
      "cell_type": "code",
      "metadata": {
        "id": "Er6Dk_eHJCpt",
        "colab_type": "code",
        "colab": {}
      },
      "source": [
        "df_category = df19e.Field.value_counts()"
      ],
      "execution_count": 12,
      "outputs": []
    },
    {
      "cell_type": "code",
      "metadata": {
        "id": "zdH3WoOHKBQs",
        "colab_type": "code",
        "colab": {
          "base_uri": "https://localhost:8080/",
          "height": 118
        },
        "outputId": "4294bf4f-dfe7-4670-d094-3b52c542a163"
      },
      "source": [
        "df_category.head()"
      ],
      "execution_count": 13,
      "outputs": [
        {
          "output_type": "execute_result",
          "data": {
            "text/plain": [
              "Biochemistry                                    20\n",
              "Cardiology and Cardiovascular Medicine          20\n",
              "Oncology                                        20\n",
              "Ecology, Evolution, Behavior and Systematics    17\n",
              "General Medicine                                17\n",
              "Name: Field, dtype: int64"
            ]
          },
          "metadata": {
            "tags": []
          },
          "execution_count": 13
        }
      ]
    },
    {
      "cell_type": "code",
      "metadata": {
        "id": "WD65OpGUKGHj",
        "colab_type": "code",
        "colab": {
          "base_uri": "https://localhost:8080/",
          "height": 134
        },
        "outputId": "2c2ae422-2236-46eb-de97-493889e33e99"
      },
      "source": [
        "cit_field = df19e.groupby('Field')['CiteScore'].mean()\n",
        "print(cit_field.head())"
      ],
      "execution_count": 14,
      "outputs": [
        {
          "output_type": "stream",
          "text": [
            "Field\n",
            "                                    23.742857\n",
            "Accounting                           9.750000\n",
            "Acoustics and Ultrasonics           11.800000\n",
            "Advanced and Specialized Nursing    16.150000\n",
            "Aerospace Engineering               13.050000\n",
            "Name: CiteScore, dtype: float64\n"
          ],
          "name": "stdout"
        }
      ]
    },
    {
      "cell_type": "code",
      "metadata": {
        "id": "7P4RCRQLKjHb",
        "colab_type": "code",
        "colab": {}
      },
      "source": [
        "%matplotlib inline \n",
        "\n",
        "import matplotlib as mpl\n",
        "import matplotlib.pyplot as plt"
      ],
      "execution_count": 15,
      "outputs": []
    },
    {
      "cell_type": "code",
      "metadata": {
        "id": "qyFQG1z5PxRC",
        "colab_type": "code",
        "colab": {
          "base_uri": "https://localhost:8080/",
          "height": 275
        },
        "outputId": "8862ef46-20df-41fd-9804-e29c4f189699"
      },
      "source": [
        "df19e.set_index('Field', inplace=True)\n",
        "\n",
        "# let's view the first five elements and see how the dataframe was changed\n",
        "df19e.head()"
      ],
      "execution_count": 16,
      "outputs": [
        {
          "output_type": "execute_result",
          "data": {
            "text/html": [
              "<div>\n",
              "<style scoped>\n",
              "    .dataframe tbody tr th:only-of-type {\n",
              "        vertical-align: middle;\n",
              "    }\n",
              "\n",
              "    .dataframe tbody tr th {\n",
              "        vertical-align: top;\n",
              "    }\n",
              "\n",
              "    .dataframe thead th {\n",
              "        text-align: right;\n",
              "    }\n",
              "</style>\n",
              "<table border=\"1\" class=\"dataframe\">\n",
              "  <thead>\n",
              "    <tr style=\"text-align: right;\">\n",
              "      <th></th>\n",
              "      <th>Source title</th>\n",
              "      <th>CiteScore</th>\n",
              "      <th>Highest percentile</th>\n",
              "      <th>2016-19 Citations</th>\n",
              "      <th>2016-19 Documents</th>\n",
              "      <th>% Cited</th>\n",
              "      <th>SNIP</th>\n",
              "      <th>SJR</th>\n",
              "      <th>Publisher</th>\n",
              "      <th>FieldID</th>\n",
              "    </tr>\n",
              "    <tr>\n",
              "      <th>Field</th>\n",
              "      <th></th>\n",
              "      <th></th>\n",
              "      <th></th>\n",
              "      <th></th>\n",
              "      <th></th>\n",
              "      <th></th>\n",
              "      <th></th>\n",
              "      <th></th>\n",
              "      <th></th>\n",
              "      <th></th>\n",
              "    </tr>\n",
              "  </thead>\n",
              "  <tbody>\n",
              "    <tr>\n",
              "      <th>Oncology</th>\n",
              "      <td>Ca-A Cancer Journal for Clinicians</td>\n",
              "      <td>435.4</td>\n",
              "      <td>99.0%</td>\n",
              "      <td>47455</td>\n",
              "      <td>109</td>\n",
              "      <td>94</td>\n",
              "      <td>113.744</td>\n",
              "      <td>88.192</td>\n",
              "      <td>Wiley-Blackwell</td>\n",
              "      <td>1/331</td>\n",
              "    </tr>\n",
              "    <tr>\n",
              "      <th>Health (social science)</th>\n",
              "      <td>MMWR Recommendations and Reports</td>\n",
              "      <td>152.5</td>\n",
              "      <td>99.0%</td>\n",
              "      <td>2288</td>\n",
              "      <td>15</td>\n",
              "      <td>87</td>\n",
              "      <td>37.543</td>\n",
              "      <td>41.022</td>\n",
              "      <td>Centers for Disease Control and Prevention (CDC)</td>\n",
              "      <td>1/275</td>\n",
              "    </tr>\n",
              "    <tr>\n",
              "      <th>Materials Chemistry</th>\n",
              "      <td>Nature Reviews Materials</td>\n",
              "      <td>123.7</td>\n",
              "      <td>99.0%</td>\n",
              "      <td>23868</td>\n",
              "      <td>193</td>\n",
              "      <td>96</td>\n",
              "      <td>15.261</td>\n",
              "      <td>36.691</td>\n",
              "      <td>Springer Nature</td>\n",
              "      <td>1/287</td>\n",
              "    </tr>\n",
              "    <tr>\n",
              "      <th>General Chemistry</th>\n",
              "      <td>Chemical Reviews</td>\n",
              "      <td>100.5</td>\n",
              "      <td>99.0%</td>\n",
              "      <td>97295</td>\n",
              "      <td>968</td>\n",
              "      <td>96</td>\n",
              "      <td>12.832</td>\n",
              "      <td>20.847</td>\n",
              "      <td>American Chemical Society</td>\n",
              "      <td>1/398</td>\n",
              "    </tr>\n",
              "    <tr>\n",
              "      <th>General Physics and Astronomy</th>\n",
              "      <td>Reviews of Modern Physics</td>\n",
              "      <td>75.8</td>\n",
              "      <td>99.0%</td>\n",
              "      <td>11906</td>\n",
              "      <td>157</td>\n",
              "      <td>92</td>\n",
              "      <td>14.948</td>\n",
              "      <td>21.938</td>\n",
              "      <td>American Physical Society</td>\n",
              "      <td>1/224</td>\n",
              "    </tr>\n",
              "  </tbody>\n",
              "</table>\n",
              "</div>"
            ],
            "text/plain": [
              "                                                     Source title  ...  FieldID\n",
              "Field                                                              ...         \n",
              "Oncology                       Ca-A Cancer Journal for Clinicians  ...    1/331\n",
              "Health (social science)          MMWR Recommendations and Reports  ...    1/275\n",
              "Materials Chemistry                      Nature Reviews Materials  ...    1/287\n",
              "General Chemistry                                Chemical Reviews  ...    1/398\n",
              "General Physics and Astronomy           Reviews of Modern Physics  ...    1/224\n",
              "\n",
              "[5 rows x 10 columns]"
            ]
          },
          "metadata": {
            "tags": []
          },
          "execution_count": 16
        }
      ]
    },
    {
      "cell_type": "markdown",
      "metadata": {
        "id": "Gn9bwVk0QM7V",
        "colab_type": "text"
      },
      "source": [
        "### Jurnal dikelompokkan ke dalam bidang/fieldnya"
      ]
    },
    {
      "cell_type": "code",
      "metadata": {
        "id": "7Rc0jFj8O1J8",
        "colab_type": "code",
        "colab": {
          "base_uri": "https://localhost:8080/",
          "height": 275
        },
        "outputId": "e75793bb-0287-4461-a41b-af9d235eda86"
      },
      "source": [
        "df19e.sort_values(['CiteScore'], ascending=False, axis=0, inplace=True)\n",
        "\n",
        "# get the top 5 entries\n",
        "df_top5 = df19e.head()\n",
        "\n",
        "df_top5.head()"
      ],
      "execution_count": 17,
      "outputs": [
        {
          "output_type": "execute_result",
          "data": {
            "text/html": [
              "<div>\n",
              "<style scoped>\n",
              "    .dataframe tbody tr th:only-of-type {\n",
              "        vertical-align: middle;\n",
              "    }\n",
              "\n",
              "    .dataframe tbody tr th {\n",
              "        vertical-align: top;\n",
              "    }\n",
              "\n",
              "    .dataframe thead th {\n",
              "        text-align: right;\n",
              "    }\n",
              "</style>\n",
              "<table border=\"1\" class=\"dataframe\">\n",
              "  <thead>\n",
              "    <tr style=\"text-align: right;\">\n",
              "      <th></th>\n",
              "      <th>Source title</th>\n",
              "      <th>CiteScore</th>\n",
              "      <th>Highest percentile</th>\n",
              "      <th>2016-19 Citations</th>\n",
              "      <th>2016-19 Documents</th>\n",
              "      <th>% Cited</th>\n",
              "      <th>SNIP</th>\n",
              "      <th>SJR</th>\n",
              "      <th>Publisher</th>\n",
              "      <th>FieldID</th>\n",
              "    </tr>\n",
              "    <tr>\n",
              "      <th>Field</th>\n",
              "      <th></th>\n",
              "      <th></th>\n",
              "      <th></th>\n",
              "      <th></th>\n",
              "      <th></th>\n",
              "      <th></th>\n",
              "      <th></th>\n",
              "      <th></th>\n",
              "      <th></th>\n",
              "      <th></th>\n",
              "    </tr>\n",
              "  </thead>\n",
              "  <tbody>\n",
              "    <tr>\n",
              "      <th>Oncology</th>\n",
              "      <td>Ca-A Cancer Journal for Clinicians</td>\n",
              "      <td>435.4</td>\n",
              "      <td>99.0%</td>\n",
              "      <td>47455</td>\n",
              "      <td>109</td>\n",
              "      <td>94</td>\n",
              "      <td>113.744</td>\n",
              "      <td>88.192</td>\n",
              "      <td>Wiley-Blackwell</td>\n",
              "      <td>1/331</td>\n",
              "    </tr>\n",
              "    <tr>\n",
              "      <th>Health (social science)</th>\n",
              "      <td>MMWR Recommendations and Reports</td>\n",
              "      <td>152.5</td>\n",
              "      <td>99.0%</td>\n",
              "      <td>2288</td>\n",
              "      <td>15</td>\n",
              "      <td>87</td>\n",
              "      <td>37.543</td>\n",
              "      <td>41.022</td>\n",
              "      <td>Centers for Disease Control and Prevention (CDC)</td>\n",
              "      <td>1/275</td>\n",
              "    </tr>\n",
              "    <tr>\n",
              "      <th>Materials Chemistry</th>\n",
              "      <td>Nature Reviews Materials</td>\n",
              "      <td>123.7</td>\n",
              "      <td>99.0%</td>\n",
              "      <td>23868</td>\n",
              "      <td>193</td>\n",
              "      <td>96</td>\n",
              "      <td>15.261</td>\n",
              "      <td>36.691</td>\n",
              "      <td>Springer Nature</td>\n",
              "      <td>1/287</td>\n",
              "    </tr>\n",
              "    <tr>\n",
              "      <th>General Chemistry</th>\n",
              "      <td>Chemical Reviews</td>\n",
              "      <td>100.5</td>\n",
              "      <td>99.0%</td>\n",
              "      <td>97295</td>\n",
              "      <td>968</td>\n",
              "      <td>96</td>\n",
              "      <td>12.832</td>\n",
              "      <td>20.847</td>\n",
              "      <td>American Chemical Society</td>\n",
              "      <td>1/398</td>\n",
              "    </tr>\n",
              "    <tr>\n",
              "      <th>General Physics and Astronomy</th>\n",
              "      <td>Reviews of Modern Physics</td>\n",
              "      <td>75.8</td>\n",
              "      <td>99.0%</td>\n",
              "      <td>11906</td>\n",
              "      <td>157</td>\n",
              "      <td>92</td>\n",
              "      <td>14.948</td>\n",
              "      <td>21.938</td>\n",
              "      <td>American Physical Society</td>\n",
              "      <td>1/224</td>\n",
              "    </tr>\n",
              "  </tbody>\n",
              "</table>\n",
              "</div>"
            ],
            "text/plain": [
              "                                                     Source title  ...  FieldID\n",
              "Field                                                              ...         \n",
              "Oncology                       Ca-A Cancer Journal for Clinicians  ...    1/331\n",
              "Health (social science)          MMWR Recommendations and Reports  ...    1/275\n",
              "Materials Chemistry                      Nature Reviews Materials  ...    1/287\n",
              "General Chemistry                                Chemical Reviews  ...    1/398\n",
              "General Physics and Astronomy           Reviews of Modern Physics  ...    1/224\n",
              "\n",
              "[5 rows x 10 columns]"
            ]
          },
          "metadata": {
            "tags": []
          },
          "execution_count": 17
        }
      ]
    },
    {
      "cell_type": "code",
      "metadata": {
        "id": "D05_AYo7PdAt",
        "colab_type": "code",
        "colab": {
          "base_uri": "https://localhost:8080/",
          "height": 242
        },
        "outputId": "17b56966-c88e-4c0f-d53e-ddaac10eaae6"
      },
      "source": [
        "# group countries by field and apply sum() function \n",
        "df_field = df19e.groupby('Field', axis=0).sum()\n",
        "\n",
        "# note: the output of the groupby method is a `groupby' object. \n",
        "# we can not use it further until we apply a function (eg .sum())\n",
        "print(type(df19e.groupby('Field', axis=0)))\n",
        "\n",
        "df_field.head()"
      ],
      "execution_count": 18,
      "outputs": [
        {
          "output_type": "stream",
          "text": [
            "<class 'pandas.core.groupby.generic.DataFrameGroupBy'>\n"
          ],
          "name": "stdout"
        },
        {
          "output_type": "execute_result",
          "data": {
            "text/html": [
              "<div>\n",
              "<style scoped>\n",
              "    .dataframe tbody tr th:only-of-type {\n",
              "        vertical-align: middle;\n",
              "    }\n",
              "\n",
              "    .dataframe tbody tr th {\n",
              "        vertical-align: top;\n",
              "    }\n",
              "\n",
              "    .dataframe thead th {\n",
              "        text-align: right;\n",
              "    }\n",
              "</style>\n",
              "<table border=\"1\" class=\"dataframe\">\n",
              "  <thead>\n",
              "    <tr style=\"text-align: right;\">\n",
              "      <th></th>\n",
              "      <th>CiteScore</th>\n",
              "      <th>2016-19 Citations</th>\n",
              "      <th>2016-19 Documents</th>\n",
              "      <th>% Cited</th>\n",
              "      <th>SNIP</th>\n",
              "      <th>SJR</th>\n",
              "    </tr>\n",
              "    <tr>\n",
              "      <th>Field</th>\n",
              "      <th></th>\n",
              "      <th></th>\n",
              "      <th></th>\n",
              "      <th></th>\n",
              "      <th></th>\n",
              "      <th></th>\n",
              "    </tr>\n",
              "  </thead>\n",
              "  <tbody>\n",
              "    <tr>\n",
              "      <th></th>\n",
              "      <td>166.2</td>\n",
              "      <td>741179</td>\n",
              "      <td>26682</td>\n",
              "      <td>589</td>\n",
              "      <td>28.500</td>\n",
              "      <td>43.133</td>\n",
              "    </tr>\n",
              "    <tr>\n",
              "      <th>Accounting</th>\n",
              "      <td>19.5</td>\n",
              "      <td>4049</td>\n",
              "      <td>408</td>\n",
              "      <td>162</td>\n",
              "      <td>10.598</td>\n",
              "      <td>24.130</td>\n",
              "    </tr>\n",
              "    <tr>\n",
              "      <th>Acoustics and Ultrasonics</th>\n",
              "      <td>11.8</td>\n",
              "      <td>21173</td>\n",
              "      <td>1798</td>\n",
              "      <td>88</td>\n",
              "      <td>1.977</td>\n",
              "      <td>1.493</td>\n",
              "    </tr>\n",
              "    <tr>\n",
              "      <th>Advanced and Specialized Nursing</th>\n",
              "      <td>32.3</td>\n",
              "      <td>48806</td>\n",
              "      <td>3357</td>\n",
              "      <td>167</td>\n",
              "      <td>6.857</td>\n",
              "      <td>9.577</td>\n",
              "    </tr>\n",
              "    <tr>\n",
              "      <th>Aerospace Engineering</th>\n",
              "      <td>26.1</td>\n",
              "      <td>44972</td>\n",
              "      <td>4070</td>\n",
              "      <td>168</td>\n",
              "      <td>8.897</td>\n",
              "      <td>4.152</td>\n",
              "    </tr>\n",
              "  </tbody>\n",
              "</table>\n",
              "</div>"
            ],
            "text/plain": [
              "                                  CiteScore  2016-19 Citations  ...    SNIP     SJR\n",
              "Field                                                           ...                \n",
              "                                      166.2             741179  ...  28.500  43.133\n",
              "Accounting                             19.5               4049  ...  10.598  24.130\n",
              "Acoustics and Ultrasonics              11.8              21173  ...   1.977   1.493\n",
              "Advanced and Specialized Nursing       32.3              48806  ...   6.857   9.577\n",
              "Aerospace Engineering                  26.1              44972  ...   8.897   4.152\n",
              "\n",
              "[5 rows x 6 columns]"
            ]
          },
          "metadata": {
            "tags": []
          },
          "execution_count": 18
        }
      ]
    },
    {
      "cell_type": "code",
      "metadata": {
        "id": "90tGHA77Tbjh",
        "colab_type": "code",
        "colab": {
          "base_uri": "https://localhost:8080/",
          "height": 431
        },
        "outputId": "14cecc02-4d75-4286-f7fd-d8d067e1f72b"
      },
      "source": [
        "df_field"
      ],
      "execution_count": 19,
      "outputs": [
        {
          "output_type": "execute_result",
          "data": {
            "text/html": [
              "<div>\n",
              "<style scoped>\n",
              "    .dataframe tbody tr th:only-of-type {\n",
              "        vertical-align: middle;\n",
              "    }\n",
              "\n",
              "    .dataframe tbody tr th {\n",
              "        vertical-align: top;\n",
              "    }\n",
              "\n",
              "    .dataframe thead th {\n",
              "        text-align: right;\n",
              "    }\n",
              "</style>\n",
              "<table border=\"1\" class=\"dataframe\">\n",
              "  <thead>\n",
              "    <tr style=\"text-align: right;\">\n",
              "      <th></th>\n",
              "      <th>CiteScore</th>\n",
              "      <th>2016-19 Citations</th>\n",
              "      <th>2016-19 Documents</th>\n",
              "      <th>% Cited</th>\n",
              "      <th>SNIP</th>\n",
              "      <th>SJR</th>\n",
              "    </tr>\n",
              "    <tr>\n",
              "      <th>Field</th>\n",
              "      <th></th>\n",
              "      <th></th>\n",
              "      <th></th>\n",
              "      <th></th>\n",
              "      <th></th>\n",
              "      <th></th>\n",
              "    </tr>\n",
              "  </thead>\n",
              "  <tbody>\n",
              "    <tr>\n",
              "      <th></th>\n",
              "      <td>166.2</td>\n",
              "      <td>741179</td>\n",
              "      <td>26682</td>\n",
              "      <td>589</td>\n",
              "      <td>28.500</td>\n",
              "      <td>43.133</td>\n",
              "    </tr>\n",
              "    <tr>\n",
              "      <th>Accounting</th>\n",
              "      <td>19.5</td>\n",
              "      <td>4049</td>\n",
              "      <td>408</td>\n",
              "      <td>162</td>\n",
              "      <td>10.598</td>\n",
              "      <td>24.130</td>\n",
              "    </tr>\n",
              "    <tr>\n",
              "      <th>Acoustics and Ultrasonics</th>\n",
              "      <td>11.8</td>\n",
              "      <td>21173</td>\n",
              "      <td>1798</td>\n",
              "      <td>88</td>\n",
              "      <td>1.977</td>\n",
              "      <td>1.493</td>\n",
              "    </tr>\n",
              "    <tr>\n",
              "      <th>Advanced and Specialized Nursing</th>\n",
              "      <td>32.3</td>\n",
              "      <td>48806</td>\n",
              "      <td>3357</td>\n",
              "      <td>167</td>\n",
              "      <td>6.857</td>\n",
              "      <td>9.577</td>\n",
              "    </tr>\n",
              "    <tr>\n",
              "      <th>Aerospace Engineering</th>\n",
              "      <td>26.1</td>\n",
              "      <td>44972</td>\n",
              "      <td>4070</td>\n",
              "      <td>168</td>\n",
              "      <td>8.897</td>\n",
              "      <td>4.152</td>\n",
              "    </tr>\n",
              "    <tr>\n",
              "      <th>...</th>\n",
              "      <td>...</td>\n",
              "      <td>...</td>\n",
              "      <td>...</td>\n",
              "      <td>...</td>\n",
              "      <td>...</td>\n",
              "      <td>...</td>\n",
              "    </tr>\n",
              "    <tr>\n",
              "      <th>Transportation</th>\n",
              "      <td>31.4</td>\n",
              "      <td>3156</td>\n",
              "      <td>212</td>\n",
              "      <td>172</td>\n",
              "      <td>7.711</td>\n",
              "      <td>9.287</td>\n",
              "    </tr>\n",
              "    <tr>\n",
              "      <th>Urology</th>\n",
              "      <td>52.7</td>\n",
              "      <td>42959</td>\n",
              "      <td>2601</td>\n",
              "      <td>245</td>\n",
              "      <td>10.373</td>\n",
              "      <td>12.211</td>\n",
              "    </tr>\n",
              "    <tr>\n",
              "      <th>Virology</th>\n",
              "      <td>20.5</td>\n",
              "      <td>4983</td>\n",
              "      <td>491</td>\n",
              "      <td>168</td>\n",
              "      <td>3.183</td>\n",
              "      <td>6.432</td>\n",
              "    </tr>\n",
              "    <tr>\n",
              "      <th>Waste Management and Disposal</th>\n",
              "      <td>9.6</td>\n",
              "      <td>21703</td>\n",
              "      <td>2257</td>\n",
              "      <td>86</td>\n",
              "      <td>2.106</td>\n",
              "      <td>1.634</td>\n",
              "    </tr>\n",
              "    <tr>\n",
              "      <th>Water Science and Technology</th>\n",
              "      <td>47.8</td>\n",
              "      <td>25210</td>\n",
              "      <td>2079</td>\n",
              "      <td>345</td>\n",
              "      <td>8.520</td>\n",
              "      <td>7.629</td>\n",
              "    </tr>\n",
              "  </tbody>\n",
              "</table>\n",
              "<p>215 rows × 6 columns</p>\n",
              "</div>"
            ],
            "text/plain": [
              "                                  CiteScore  2016-19 Citations  ...    SNIP     SJR\n",
              "Field                                                           ...                \n",
              "                                      166.2             741179  ...  28.500  43.133\n",
              "Accounting                             19.5               4049  ...  10.598  24.130\n",
              "Acoustics and Ultrasonics              11.8              21173  ...   1.977   1.493\n",
              "Advanced and Specialized Nursing       32.3              48806  ...   6.857   9.577\n",
              "Aerospace Engineering                  26.1              44972  ...   8.897   4.152\n",
              "...                                     ...                ...  ...     ...     ...\n",
              "Transportation                         31.4               3156  ...   7.711   9.287\n",
              "Urology                                52.7              42959  ...  10.373  12.211\n",
              "Virology                               20.5               4983  ...   3.183   6.432\n",
              "Waste Management and Disposal           9.6              21703  ...   2.106   1.634\n",
              "Water Science and Technology           47.8              25210  ...   8.520   7.629\n",
              "\n",
              "[215 rows x 6 columns]"
            ]
          },
          "metadata": {
            "tags": []
          },
          "execution_count": 19
        }
      ]
    },
    {
      "cell_type": "code",
      "metadata": {
        "id": "ndCe6D-lXU-h",
        "colab_type": "code",
        "colab": {
          "base_uri": "https://localhost:8080/",
          "height": 448
        },
        "outputId": "26a869e7-40ab-4252-d95b-3bd7e6c5688d"
      },
      "source": [
        "# group countries by field and apply sum() function \n",
        "df_pub = df19e.groupby('Publisher', axis=0).sum()\n",
        "\n",
        "# note: the output of the groupby method is a `groupby' object. \n",
        "# we can not use it further until we apply a function (eg .sum())\n",
        "print(type(df19e.groupby('Publisher', axis=0)))\n",
        "\n",
        "df_pub.head(200)"
      ],
      "execution_count": 20,
      "outputs": [
        {
          "output_type": "stream",
          "text": [
            "<class 'pandas.core.groupby.generic.DataFrameGroupBy'>\n"
          ],
          "name": "stdout"
        },
        {
          "output_type": "execute_result",
          "data": {
            "text/html": [
              "<div>\n",
              "<style scoped>\n",
              "    .dataframe tbody tr th:only-of-type {\n",
              "        vertical-align: middle;\n",
              "    }\n",
              "\n",
              "    .dataframe tbody tr th {\n",
              "        vertical-align: top;\n",
              "    }\n",
              "\n",
              "    .dataframe thead th {\n",
              "        text-align: right;\n",
              "    }\n",
              "</style>\n",
              "<table border=\"1\" class=\"dataframe\">\n",
              "  <thead>\n",
              "    <tr style=\"text-align: right;\">\n",
              "      <th></th>\n",
              "      <th>CiteScore</th>\n",
              "      <th>2016-19 Citations</th>\n",
              "      <th>2016-19 Documents</th>\n",
              "      <th>% Cited</th>\n",
              "      <th>SNIP</th>\n",
              "      <th>SJR</th>\n",
              "    </tr>\n",
              "    <tr>\n",
              "      <th>Publisher</th>\n",
              "      <th></th>\n",
              "      <th></th>\n",
              "      <th></th>\n",
              "      <th></th>\n",
              "      <th></th>\n",
              "      <th></th>\n",
              "    </tr>\n",
              "  </thead>\n",
              "  <tbody>\n",
              "    <tr>\n",
              "      <th>ACM</th>\n",
              "      <td>38.6</td>\n",
              "      <td>25471</td>\n",
              "      <td>2021</td>\n",
              "      <td>231</td>\n",
              "      <td>13.795</td>\n",
              "      <td>7.575</td>\n",
              "    </tr>\n",
              "    <tr>\n",
              "      <th>APA</th>\n",
              "      <td>108.3</td>\n",
              "      <td>24586</td>\n",
              "      <td>1967</td>\n",
              "      <td>712</td>\n",
              "      <td>35.965</td>\n",
              "      <td>42.706</td>\n",
              "    </tr>\n",
              "    <tr>\n",
              "      <th>ASME</th>\n",
              "      <td>11.2</td>\n",
              "      <td>730</td>\n",
              "      <td>65</td>\n",
              "      <td>85</td>\n",
              "      <td>3.714</td>\n",
              "      <td>1.580</td>\n",
              "    </tr>\n",
              "    <tr>\n",
              "      <th>Academy of Management</th>\n",
              "      <td>49.1</td>\n",
              "      <td>9166</td>\n",
              "      <td>612</td>\n",
              "      <td>273</td>\n",
              "      <td>17.930</td>\n",
              "      <td>31.267</td>\n",
              "    </tr>\n",
              "    <tr>\n",
              "      <th>American Academy of Pediatrics</th>\n",
              "      <td>9.6</td>\n",
              "      <td>24433</td>\n",
              "      <td>2558</td>\n",
              "      <td>82</td>\n",
              "      <td>2.690</td>\n",
              "      <td>2.772</td>\n",
              "    </tr>\n",
              "    <tr>\n",
              "      <th>...</th>\n",
              "      <td>...</td>\n",
              "      <td>...</td>\n",
              "      <td>...</td>\n",
              "      <td>...</td>\n",
              "      <td>...</td>\n",
              "      <td>...</td>\n",
              "    </tr>\n",
              "    <tr>\n",
              "      <th>Wiley-Blackwell</th>\n",
              "      <td>1986.0</td>\n",
              "      <td>1594840</td>\n",
              "      <td>101565</td>\n",
              "      <td>10377</td>\n",
              "      <td>413.037</td>\n",
              "      <td>512.360</td>\n",
              "    </tr>\n",
              "    <tr>\n",
              "      <th>Wolters Kluwer Health</th>\n",
              "      <td>163.4</td>\n",
              "      <td>214991</td>\n",
              "      <td>16075</td>\n",
              "      <td>1064</td>\n",
              "      <td>34.526</td>\n",
              "      <td>44.503</td>\n",
              "    </tr>\n",
              "    <tr>\n",
              "      <th>World Health Organization</th>\n",
              "      <td>10.2</td>\n",
              "      <td>1577</td>\n",
              "      <td>155</td>\n",
              "      <td>81</td>\n",
              "      <td>0.000</td>\n",
              "      <td>1.931</td>\n",
              "    </tr>\n",
              "    <tr>\n",
              "      <th>World Scientific</th>\n",
              "      <td>19.6</td>\n",
              "      <td>2014</td>\n",
              "      <td>206</td>\n",
              "      <td>166</td>\n",
              "      <td>2.807</td>\n",
              "      <td>2.794</td>\n",
              "    </tr>\n",
              "    <tr>\n",
              "      <th>eLife Sciences Publications</th>\n",
              "      <td>10.8</td>\n",
              "      <td>60463</td>\n",
              "      <td>5574</td>\n",
              "      <td>81</td>\n",
              "      <td>1.666</td>\n",
              "      <td>6.079</td>\n",
              "    </tr>\n",
              "  </tbody>\n",
              "</table>\n",
              "<p>110 rows × 6 columns</p>\n",
              "</div>"
            ],
            "text/plain": [
              "                                CiteScore  2016-19 Citations  ...     SNIP      SJR\n",
              "Publisher                                                     ...                  \n",
              "ACM                                  38.6              25471  ...   13.795    7.575\n",
              "APA                                 108.3              24586  ...   35.965   42.706\n",
              "ASME                                 11.2                730  ...    3.714    1.580\n",
              "Academy of Management                49.1               9166  ...   17.930   31.267\n",
              "American Academy of Pediatrics        9.6              24433  ...    2.690    2.772\n",
              "...                                   ...                ...  ...      ...      ...\n",
              "Wiley-Blackwell                    1986.0            1594840  ...  413.037  512.360\n",
              "Wolters Kluwer Health               163.4             214991  ...   34.526   44.503\n",
              "World Health Organization            10.2               1577  ...    0.000    1.931\n",
              "World Scientific                     19.6               2014  ...    2.807    2.794\n",
              "eLife Sciences Publications          10.8              60463  ...    1.666    6.079\n",
              "\n",
              "[110 rows x 6 columns]"
            ]
          },
          "metadata": {
            "tags": []
          },
          "execution_count": 20
        }
      ]
    },
    {
      "cell_type": "code",
      "metadata": {
        "id": "Z7FkjiT0Qn9l",
        "colab_type": "code",
        "colab": {
          "base_uri": "https://localhost:8080/",
          "height": 374
        },
        "outputId": "f6037d8a-931c-4c1b-f2fb-1f99aa7c8531"
      },
      "source": [
        "# autopct create %, start angle represent starting point\n",
        "df19['% Cited'].plot(kind='hist', figsize=(10, 6))\n",
        "\n",
        "plt.show()\n"
      ],
      "execution_count": 21,
      "outputs": [
        {
          "output_type": "display_data",
          "data": {
            "image/png": "[encoded data removed]",
            "text/plain": [
              "<Figure size 720x432 with 1 Axes>"
            ]
          },
          "metadata": {
            "tags": [],
            "needs_background": "light"
          }
        }
      ]
    },
    {
      "cell_type": "code",
      "metadata": {
        "id": "LzCvJw2lwmVx",
        "colab_type": "code",
        "colab": {
          "base_uri": "https://localhost:8080/",
          "height": 275
        },
        "outputId": "2ab168d9-aa7b-4003-ff4f-92eb2f2687c9"
      },
      "source": [
        "mostfield_df = df19e.nlargest(5,'CiteScore')\n",
        "mostfield_df"
      ],
      "execution_count": 22,
      "outputs": [
        {
          "output_type": "execute_result",
          "data": {
            "text/html": [
              "<div>\n",
              "<style scoped>\n",
              "    .dataframe tbody tr th:only-of-type {\n",
              "        vertical-align: middle;\n",
              "    }\n",
              "\n",
              "    .dataframe tbody tr th {\n",
              "        vertical-align: top;\n",
              "    }\n",
              "\n",
              "    .dataframe thead th {\n",
              "        text-align: right;\n",
              "    }\n",
              "</style>\n",
              "<table border=\"1\" class=\"dataframe\">\n",
              "  <thead>\n",
              "    <tr style=\"text-align: right;\">\n",
              "      <th></th>\n",
              "      <th>Source title</th>\n",
              "      <th>CiteScore</th>\n",
              "      <th>Highest percentile</th>\n",
              "      <th>2016-19 Citations</th>\n",
              "      <th>2016-19 Documents</th>\n",
              "      <th>% Cited</th>\n",
              "      <th>SNIP</th>\n",
              "      <th>SJR</th>\n",
              "      <th>Publisher</th>\n",
              "      <th>FieldID</th>\n",
              "    </tr>\n",
              "    <tr>\n",
              "      <th>Field</th>\n",
              "      <th></th>\n",
              "      <th></th>\n",
              "      <th></th>\n",
              "      <th></th>\n",
              "      <th></th>\n",
              "      <th></th>\n",
              "      <th></th>\n",
              "      <th></th>\n",
              "      <th></th>\n",
              "      <th></th>\n",
              "    </tr>\n",
              "  </thead>\n",
              "  <tbody>\n",
              "    <tr>\n",
              "      <th>Oncology</th>\n",
              "      <td>Ca-A Cancer Journal for Clinicians</td>\n",
              "      <td>435.4</td>\n",
              "      <td>99.0%</td>\n",
              "      <td>47455</td>\n",
              "      <td>109</td>\n",
              "      <td>94</td>\n",
              "      <td>113.744</td>\n",
              "      <td>88.192</td>\n",
              "      <td>Wiley-Blackwell</td>\n",
              "      <td>1/331</td>\n",
              "    </tr>\n",
              "    <tr>\n",
              "      <th>Health (social science)</th>\n",
              "      <td>MMWR Recommendations and Reports</td>\n",
              "      <td>152.5</td>\n",
              "      <td>99.0%</td>\n",
              "      <td>2288</td>\n",
              "      <td>15</td>\n",
              "      <td>87</td>\n",
              "      <td>37.543</td>\n",
              "      <td>41.022</td>\n",
              "      <td>Centers for Disease Control and Prevention (CDC)</td>\n",
              "      <td>1/275</td>\n",
              "    </tr>\n",
              "    <tr>\n",
              "      <th>Materials Chemistry</th>\n",
              "      <td>Nature Reviews Materials</td>\n",
              "      <td>123.7</td>\n",
              "      <td>99.0%</td>\n",
              "      <td>23868</td>\n",
              "      <td>193</td>\n",
              "      <td>96</td>\n",
              "      <td>15.261</td>\n",
              "      <td>36.691</td>\n",
              "      <td>Springer Nature</td>\n",
              "      <td>1/287</td>\n",
              "    </tr>\n",
              "    <tr>\n",
              "      <th>General Chemistry</th>\n",
              "      <td>Chemical Reviews</td>\n",
              "      <td>100.5</td>\n",
              "      <td>99.0%</td>\n",
              "      <td>97295</td>\n",
              "      <td>968</td>\n",
              "      <td>96</td>\n",
              "      <td>12.832</td>\n",
              "      <td>20.847</td>\n",
              "      <td>American Chemical Society</td>\n",
              "      <td>1/398</td>\n",
              "    </tr>\n",
              "    <tr>\n",
              "      <th>General Physics and Astronomy</th>\n",
              "      <td>Reviews of Modern Physics</td>\n",
              "      <td>75.8</td>\n",
              "      <td>99.0%</td>\n",
              "      <td>11906</td>\n",
              "      <td>157</td>\n",
              "      <td>92</td>\n",
              "      <td>14.948</td>\n",
              "      <td>21.938</td>\n",
              "      <td>American Physical Society</td>\n",
              "      <td>1/224</td>\n",
              "    </tr>\n",
              "  </tbody>\n",
              "</table>\n",
              "</div>"
            ],
            "text/plain": [
              "                                                     Source title  ...  FieldID\n",
              "Field                                                              ...         \n",
              "Oncology                       Ca-A Cancer Journal for Clinicians  ...    1/331\n",
              "Health (social science)          MMWR Recommendations and Reports  ...    1/275\n",
              "Materials Chemistry                      Nature Reviews Materials  ...    1/287\n",
              "General Chemistry                                Chemical Reviews  ...    1/398\n",
              "General Physics and Astronomy           Reviews of Modern Physics  ...    1/224\n",
              "\n",
              "[5 rows x 10 columns]"
            ]
          },
          "metadata": {
            "tags": []
          },
          "execution_count": 22
        }
      ]
    },
    {
      "cell_type": "code",
      "metadata": {
        "id": "DZHKOpfwS0mE",
        "colab_type": "code",
        "colab": {
          "base_uri": "https://localhost:8080/",
          "height": 373
        },
        "outputId": "bd3663a3-fd00-454f-e5ef-07034dfb7e3a"
      },
      "source": [
        "# autopct create %, start angle represent starting point\n",
        "mostfield_df['SNIP'].plot(kind='pie',\n",
        "                            figsize=(5, 6),\n",
        "                            autopct='%1.1f%%', # add in percentages\n",
        "                            startangle=90,     # start angle 90° \n",
        "                            )\n",
        "\n",
        "plt.title('5 Most Cited Paper Impact to Other Journal')\n",
        "plt.axis('equal') # Sets the pie chart to look like a circle.\n",
        "\n",
        "plt.show()"
      ],
      "execution_count": 23,
      "outputs": [
        {
          "output_type": "display_data",
          "data": {
            "image/png": "[encoded data removed]",
            "text/plain": [
              "<Figure size 360x432 with 1 Axes>"
            ]
          },
          "metadata": {
            "tags": []
          }
        }
      ]
    },
    {
      "cell_type": "markdown",
      "metadata": {
        "id": "JBL8I_5rQvza",
        "colab_type": "text"
      },
      "source": [
        "### Berdasarkan data tersebut dapat disimpulkan bahwa bidang Oncology/Penyakit dalam memiliki bidang jurnal yang berpengaruh terhadap penulisan jurnal-jurnal berikutnya."
      ]
    },
    {
      "cell_type": "code",
      "metadata": {
        "id": "tT6N-8lXqzjW",
        "colab_type": "code",
        "colab": {}
      },
      "source": [
        "df_fieldiden = df19e.drop(columns=['Source title','Highest percentile','2016-19 Citations','2016-19 Documents','% Cited','SJR','Publisher','FieldID'])"
      ],
      "execution_count": 24,
      "outputs": []
    },
    {
      "cell_type": "code",
      "metadata": {
        "id": "fZS8pt4CrL_N",
        "colab_type": "code",
        "colab": {
          "base_uri": "https://localhost:8080/",
          "height": 225
        },
        "outputId": "8594887f-c07d-4f93-85dd-171cfdc0ac9e"
      },
      "source": [
        "mostfield01_df = df_fieldiden.nlargest(10,'CiteScore')\n",
        "df_fieldiden.head()"
      ],
      "execution_count": 25,
      "outputs": [
        {
          "output_type": "execute_result",
          "data": {
            "text/html": [
              "<div>\n",
              "<style scoped>\n",
              "    .dataframe tbody tr th:only-of-type {\n",
              "        vertical-align: middle;\n",
              "    }\n",
              "\n",
              "    .dataframe tbody tr th {\n",
              "        vertical-align: top;\n",
              "    }\n",
              "\n",
              "    .dataframe thead th {\n",
              "        text-align: right;\n",
              "    }\n",
              "</style>\n",
              "<table border=\"1\" class=\"dataframe\">\n",
              "  <thead>\n",
              "    <tr style=\"text-align: right;\">\n",
              "      <th></th>\n",
              "      <th>CiteScore</th>\n",
              "      <th>SNIP</th>\n",
              "    </tr>\n",
              "    <tr>\n",
              "      <th>Field</th>\n",
              "      <th></th>\n",
              "      <th></th>\n",
              "    </tr>\n",
              "  </thead>\n",
              "  <tbody>\n",
              "    <tr>\n",
              "      <th>Oncology</th>\n",
              "      <td>435.4</td>\n",
              "      <td>113.744</td>\n",
              "    </tr>\n",
              "    <tr>\n",
              "      <th>Health (social science)</th>\n",
              "      <td>152.5</td>\n",
              "      <td>37.543</td>\n",
              "    </tr>\n",
              "    <tr>\n",
              "      <th>Materials Chemistry</th>\n",
              "      <td>123.7</td>\n",
              "      <td>15.261</td>\n",
              "    </tr>\n",
              "    <tr>\n",
              "      <th>General Chemistry</th>\n",
              "      <td>100.5</td>\n",
              "      <td>12.832</td>\n",
              "    </tr>\n",
              "    <tr>\n",
              "      <th>General Physics and Astronomy</th>\n",
              "      <td>75.8</td>\n",
              "      <td>14.948</td>\n",
              "    </tr>\n",
              "  </tbody>\n",
              "</table>\n",
              "</div>"
            ],
            "text/plain": [
              "                               CiteScore     SNIP\n",
              "Field                                            \n",
              "Oncology                           435.4  113.744\n",
              "Health (social science)            152.5   37.543\n",
              "Materials Chemistry                123.7   15.261\n",
              "General Chemistry                  100.5   12.832\n",
              "General Physics and Astronomy       75.8   14.948"
            ]
          },
          "metadata": {
            "tags": []
          },
          "execution_count": 25
        }
      ]
    },
    {
      "cell_type": "code",
      "metadata": {
        "id": "18eWyXL4oRWN",
        "colab_type": "code",
        "colab": {
          "base_uri": "https://localhost:8080/",
          "height": 390
        },
        "outputId": "8821faf6-df85-4655-f33e-a15a5d48c3c1"
      },
      "source": [
        "# autopct create %, start angle represent starting point\n",
        "mostfield01_df.plot.barh(figsize=(5, 6))\n",
        "\n",
        "plt.title('5 Most Cited Paper Impact to Other Journal')\n",
        "\n",
        "plt.show()"
      ],
      "execution_count": 26,
      "outputs": [
        {
          "output_type": "display_data",
          "data": {
            "image/png": "[encoded data removed]",
            "text/plain": [
              "<Figure size 360x432 with 1 Axes>"
            ]
          },
          "metadata": {
            "tags": [],
            "needs_background": "light"
          }
        }
      ]
    },
    {
      "cell_type": "markdown",
      "metadata": {
        "id": "SR_14LNBStrp",
        "colab_type": "text"
      },
      "source": [
        "### Berdasarkan nilai sitasi dan pengaruh jurnal. Jurnal tentang ilmu medikal menjadi jurnal yang banyak dikutip dan palinng banyak berpenngaruh dalam jurnal bidang pengetahuan yang dibahas di tahun 2019."
      ]
    },
    {
      "cell_type": "code",
      "metadata": {
        "id": "jLMFMpJOHF89",
        "colab_type": "code",
        "colab": {}
      },
      "source": [
        "train = df19e\n",
        "test = df19e"
      ],
      "execution_count": 27,
      "outputs": []
    },
    {
      "cell_type": "code",
      "metadata": {
        "id": "165MN8y-9GFD",
        "colab_type": "code",
        "colab": {}
      },
      "source": [
        "X=train[['CiteScore', 'SNIP']]\n",
        "y=train.SNIP\n",
        "y=y.astype('int')"
      ],
      "execution_count": 28,
      "outputs": []
    },
    {
      "cell_type": "code",
      "metadata": {
        "id": "IqU1p_nqK97n",
        "colab_type": "code",
        "colab": {}
      },
      "source": [
        "X=pd.get_dummies(X)\n",
        "train=pd.get_dummies(train)\n",
        "test=pd.get_dummies(test)"
      ],
      "execution_count": 29,
      "outputs": []
    },
    {
      "cell_type": "code",
      "metadata": {
        "id": "l75u7fbnEoFb",
        "colab_type": "code",
        "colab": {
          "base_uri": "https://localhost:8080/",
          "height": 225
        },
        "outputId": "abaac4be-1511-4509-af02-73ceea3b48ce"
      },
      "source": [
        "X.head()"
      ],
      "execution_count": 30,
      "outputs": [
        {
          "output_type": "execute_result",
          "data": {
            "text/html": [
              "<div>\n",
              "<style scoped>\n",
              "    .dataframe tbody tr th:only-of-type {\n",
              "        vertical-align: middle;\n",
              "    }\n",
              "\n",
              "    .dataframe tbody tr th {\n",
              "        vertical-align: top;\n",
              "    }\n",
              "\n",
              "    .dataframe thead th {\n",
              "        text-align: right;\n",
              "    }\n",
              "</style>\n",
              "<table border=\"1\" class=\"dataframe\">\n",
              "  <thead>\n",
              "    <tr style=\"text-align: right;\">\n",
              "      <th></th>\n",
              "      <th>CiteScore</th>\n",
              "      <th>SNIP</th>\n",
              "    </tr>\n",
              "    <tr>\n",
              "      <th>Field</th>\n",
              "      <th></th>\n",
              "      <th></th>\n",
              "    </tr>\n",
              "  </thead>\n",
              "  <tbody>\n",
              "    <tr>\n",
              "      <th>Oncology</th>\n",
              "      <td>435.4</td>\n",
              "      <td>113.744</td>\n",
              "    </tr>\n",
              "    <tr>\n",
              "      <th>Health (social science)</th>\n",
              "      <td>152.5</td>\n",
              "      <td>37.543</td>\n",
              "    </tr>\n",
              "    <tr>\n",
              "      <th>Materials Chemistry</th>\n",
              "      <td>123.7</td>\n",
              "      <td>15.261</td>\n",
              "    </tr>\n",
              "    <tr>\n",
              "      <th>General Chemistry</th>\n",
              "      <td>100.5</td>\n",
              "      <td>12.832</td>\n",
              "    </tr>\n",
              "    <tr>\n",
              "      <th>General Physics and Astronomy</th>\n",
              "      <td>75.8</td>\n",
              "      <td>14.948</td>\n",
              "    </tr>\n",
              "  </tbody>\n",
              "</table>\n",
              "</div>"
            ],
            "text/plain": [
              "                               CiteScore     SNIP\n",
              "Field                                            \n",
              "Oncology                           435.4  113.744\n",
              "Health (social science)            152.5   37.543\n",
              "Materials Chemistry                123.7   15.261\n",
              "General Chemistry                  100.5   12.832\n",
              "General Physics and Astronomy       75.8   14.948"
            ]
          },
          "metadata": {
            "tags": []
          },
          "execution_count": 30
        }
      ]
    },
    {
      "cell_type": "code",
      "metadata": {
        "id": "p1gmEs2rHRfq",
        "colab_type": "code",
        "colab": {
          "base_uri": "https://localhost:8080/",
          "height": 134
        },
        "outputId": "dc7fa929-cd70-4684-ce73-3987dc7b4505"
      },
      "source": [
        "y.head()"
      ],
      "execution_count": 31,
      "outputs": [
        {
          "output_type": "execute_result",
          "data": {
            "text/plain": [
              "Field\n",
              "Oncology                         113\n",
              "Health (social science)           37\n",
              "Materials Chemistry               15\n",
              "General Chemistry                 12\n",
              "General Physics and Astronomy     14\n",
              "Name: SNIP, dtype: int64"
            ]
          },
          "metadata": {
            "tags": []
          },
          "execution_count": 31
        }
      ]
    },
    {
      "cell_type": "code",
      "metadata": {
        "id": "XFaA-EgxKF2P",
        "colab_type": "code",
        "colab": {}
      },
      "source": [
        "from sklearn.metrics import accuracy_score\n",
        "from sklearn.metrics import confusion_matrix\n",
        "from sklearn import metrics\n",
        "from sklearn.model_selection import train_test_split\n",
        "x_train, x_test, y_train, y_test = train_test_split(X, y, test_size=0.2,random_state=100)"
      ],
      "execution_count": 32,
      "outputs": []
    },
    {
      "cell_type": "code",
      "metadata": {
        "id": "p-Ngrcjxv6FZ",
        "colab_type": "code",
        "colab": {
          "base_uri": "https://localhost:8080/",
          "height": 34
        },
        "outputId": "8cc44b0e-e1db-49c9-cde5-ed9f6ec9858c"
      },
      "source": [
        "#Import Gaussian Naive Bayes model\n",
        "from sklearn.naive_bayes import GaussianNB\n",
        "\n",
        "#Create a Gaussian Classifier\n",
        "gnb = GaussianNB()\n",
        "\n",
        "#Train the model using the training sets\n",
        "gnb.fit(x_train, y_train)\n",
        "\n",
        "#Predict the response for test dataset\n",
        "y_pred = gnb.predict(x_test)\n",
        "\n",
        "metrics.accuracy_score(y_test, y_pred)"
      ],
      "execution_count": 33,
      "outputs": [
        {
          "output_type": "execute_result",
          "data": {
            "text/plain": [
              "0.92"
            ]
          },
          "metadata": {
            "tags": []
          },
          "execution_count": 33
        }
      ]
    },
    {
      "cell_type": "code",
      "metadata": {
        "id": "gOWmuzWP3NUW",
        "colab_type": "code",
        "colab": {
          "base_uri": "https://localhost:8080/",
          "height": 168
        },
        "outputId": "826a50e8-4ecd-4852-e28f-28135374652d"
      },
      "source": [
        "#(a)LOGISTIC REGRESSION\n",
        "\n",
        "from sklearn.linear_model import LogisticRegression\n",
        "\n",
        "model=LogisticRegression()\n",
        "\n",
        "model.fit(x_train,y_train)\n",
        "\n",
        "y_pred = model.predict(x_test)\n",
        "\n",
        "metrics.accuracy_score(y_test, y_pred)"
      ],
      "execution_count": 34,
      "outputs": [
        {
          "output_type": "stream",
          "text": [
            "/usr/local/lib/python3.6/dist-packages/sklearn/linear_model/_logistic.py:940: ConvergenceWarning: lbfgs failed to converge (status=1):\n",
            "STOP: TOTAL NO. of ITERATIONS REACHED LIMIT.\n",
            "\n",
            "Increase the number of iterations (max_iter) or scale the data as shown in:\n",
            "    https://scikit-learn.org/stable/modules/preprocessing.html\n",
            "Please also refer to the documentation for alternative solver options:\n",
            "    https://scikit-learn.org/stable/modules/linear_model.html#logistic-regression\n",
            "  extra_warning_msg=_LOGISTIC_SOLVER_CONVERGENCE_MSG)\n"
          ],
          "name": "stderr"
        },
        {
          "output_type": "execute_result",
          "data": {
            "text/plain": [
              "0.71"
            ]
          },
          "metadata": {
            "tags": []
          },
          "execution_count": 34
        }
      ]
    },
    {
      "cell_type": "code",
      "metadata": {
        "id": "XG7stSTgNlSu",
        "colab_type": "code",
        "colab": {
          "base_uri": "https://localhost:8080/",
          "height": 34
        },
        "outputId": "9d6cbf73-4750-4db4-9b41-cd01d6fa78ab"
      },
      "source": [
        "#(b)DECISION TREE ALGORITHM\n",
        "\n",
        "from sklearn import tree\n",
        "\n",
        "modeldt=tree.DecisionTreeClassifier(criterion='gini')\n",
        "\n",
        "modeldt.fit(x_train,y_train)\n",
        "\n",
        "y_pred = modeldt.predict(x_test)\n",
        "\n",
        "metrics.accuracy_score(y_test, y_pred)"
      ],
      "execution_count": 35,
      "outputs": [
        {
          "output_type": "execute_result",
          "data": {
            "text/plain": [
              "0.985"
            ]
          },
          "metadata": {
            "tags": []
          },
          "execution_count": 35
        }
      ]
    },
    {
      "cell_type": "code",
      "metadata": {
        "id": "zUQshPFFN1hv",
        "colab_type": "code",
        "colab": {
          "base_uri": "https://localhost:8080/",
          "height": 34
        },
        "outputId": "ba0ba156-e868-441f-eee2-f5beda9f1a1b"
      },
      "source": [
        "#(c)RANDOM FOREST ALGORITHM\n",
        "\n",
        "from sklearn.ensemble import RandomForestClassifier\n",
        "\n",
        "modelrf=RandomForestClassifier()\n",
        "\n",
        "modelrf.fit(x_train,y_train)\n",
        "\n",
        "y_pred = modelrf.predict(x_test)\n",
        "\n",
        "metrics.accuracy_score(y_test, y_pred)"
      ],
      "execution_count": 36,
      "outputs": [
        {
          "output_type": "execute_result",
          "data": {
            "text/plain": [
              "0.96"
            ]
          },
          "metadata": {
            "tags": []
          },
          "execution_count": 36
        }
      ]
    },
    {
      "cell_type": "code",
      "metadata": {
        "id": "XsEIuaynN92w",
        "colab_type": "code",
        "colab": {
          "base_uri": "https://localhost:8080/",
          "height": 34
        },
        "outputId": "341736fe-599d-4ea3-9eaa-6b2a39efa644"
      },
      "source": [
        "#(d)SUPPORT VECTOR MACHINE (SVM) ALGORITHM\n",
        "\n",
        "from sklearn import svm\n",
        "\n",
        "modelsvm_model=svm.SVC()\n",
        "\n",
        "modelsvm_model.fit(x_train,y_train)\n",
        "\n",
        "y_pred = modelsvm_model.predict(x_test)\n",
        "\n",
        "metrics.accuracy_score(y_test, y_pred)"
      ],
      "execution_count": 37,
      "outputs": [
        {
          "output_type": "execute_result",
          "data": {
            "text/plain": [
              "0.5"
            ]
          },
          "metadata": {
            "tags": []
          },
          "execution_count": 37
        }
      ]
    },
    {
      "cell_type": "code",
      "metadata": {
        "id": "5coUsccVOGYF",
        "colab_type": "code",
        "colab": {
          "base_uri": "https://localhost:8080/",
          "height": 34
        },
        "outputId": "0c9b2417-36a3-4d64-808f-c8072a5c6e6b"
      },
      "source": [
        "#(e)NAIVE BAYES ALGORITHM\n",
        "\n",
        "from sklearn.naive_bayes import GaussianNB \n",
        "\n",
        "modelnb=GaussianNB()\n",
        "\n",
        "modelnb.fit(x_train,y_train)\n",
        "\n",
        "y_pred = modelnb.predict(x_test)\n",
        "\n",
        "metrics.accuracy_score(y_test, y_pred)"
      ],
      "execution_count": 38,
      "outputs": [
        {
          "output_type": "execute_result",
          "data": {
            "text/plain": [
              "0.92"
            ]
          },
          "metadata": {
            "tags": []
          },
          "execution_count": 38
        }
      ]
    },
    {
      "cell_type": "code",
      "metadata": {
        "id": "DD5u-olKOlBF",
        "colab_type": "code",
        "colab": {
          "base_uri": "https://localhost:8080/",
          "height": 34
        },
        "outputId": "15af42f0-e756-4081-c904-5a077955995e"
      },
      "source": [
        "#(f)K-NEAREST NEIGHBOR(kNN) ALGORITHM\n",
        "\n",
        "from sklearn.neighbors import KNeighborsClassifier\n",
        "\n",
        "modelkNN=KNeighborsClassifier()\n",
        "\n",
        "modelkNN.fit(x_train,y_train)\n",
        "\n",
        "y_pred = modelkNN.predict(x_test)\n",
        "\n",
        "metrics.accuracy_score(y_test, y_pred)"
      ],
      "execution_count": 39,
      "outputs": [
        {
          "output_type": "execute_result",
          "data": {
            "text/plain": [
              "0.84"
            ]
          },
          "metadata": {
            "tags": []
          },
          "execution_count": 39
        }
      ]
    },
    {
      "cell_type": "markdown",
      "metadata": {
        "id": "dUiMCm7fTSIK",
        "colab_type": "text"
      },
      "source": [
        "### Berdasarkan metode prediksi yang coba diterapkan di atas, metode decision tree merupakan metode yang paling baik untuk menentukan prediksi, dengan nilai keakuratan 0.985."
      ]
    },
    {
      "cell_type": "code",
      "metadata": {
        "id": "CJ-E4byMOrPh",
        "colab_type": "code",
        "colab": {}
      },
      "source": [
        ""
      ],
      "execution_count": 39,
      "outputs": []
    }
  ]
}